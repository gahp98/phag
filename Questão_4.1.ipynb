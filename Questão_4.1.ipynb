{
 "cells": [
  {
   "cell_type": "markdown",
   "metadata": {},
   "source": [
    "# Questão 4 - Pedro Henrique Arruda Gonçalves"
   ]
  },
  {
   "cell_type": "markdown",
   "metadata": {},
   "source": [
    "<img src = \"questao_4.1.jpg\">"
   ]
  },
  {
   "cell_type": "code",
   "execution_count": 33,
   "metadata": {},
   "outputs": [],
   "source": [
    "import pyomo.environ as pyo\n",
    "from pyomo.environ import *\n",
    "from pyomo.opt import SolverFactory"
   ]
  },
  {
   "cell_type": "code",
   "execution_count": 34,
   "metadata": {},
   "outputs": [],
   "source": [
    "modelo = pyo.ConcreteModel()"
   ]
  },
  {
   "cell_type": "code",
   "execution_count": 35,
   "metadata": {},
   "outputs": [
    {
     "data": {
      "text/plain": [
       "<pyomo.core.base.PyomoModel.ConcreteModel at 0x20d46aa22c0>"
      ]
     },
     "execution_count": 35,
     "metadata": {},
     "output_type": "execute_result"
    }
   ],
   "source": [
    "modelo"
   ]
  },
  {
   "cell_type": "code",
   "execution_count": 36,
   "metadata": {},
   "outputs": [],
   "source": [
    "OA = modelo.OA = pyo.Var(domain=pyo.NonNegativeReals)\n",
    "OB = modelo.OB = pyo.Var(domain=pyo.NonNegativeReals)\n",
    "OC = modelo.OC = pyo.Var(domain=pyo.NonNegativeReals)\n",
    "AB = modelo.AB = pyo.Var(domain=pyo.NonNegativeReals)\n",
    "AD = modelo.AD = pyo.Var(domain=pyo.NonNegativeReals)\n",
    "BD = modelo.BD = pyo.Var(domain=pyo.NonNegativeReals)\n",
    "BE = modelo.BE = pyo.Var(domain=pyo.NonNegativeReals)\n",
    "BC = modelo.BC = pyo.Var(domain=pyo.NonNegativeReals)\n",
    "CB = modelo.CB = pyo.Var(domain=pyo.NonNegativeReals)\n",
    "CE = modelo.CE = pyo.Var(domain=pyo.NonNegativeReals)\n",
    "DE = modelo.DE = pyo.Var(domain=pyo.NonNegativeReals)\n",
    "DT1 = modelo.DT1 = pyo.Var(domain=pyo.NonNegativeReals)\n",
    "ED = modelo.ED = pyo.Var(domain=pyo.NonNegativeReals)\n",
    "ET = modelo.DT = pyo.Var(domain=pyo.NonNegativeReals)"
   ]
  },
  {
   "cell_type": "code",
   "execution_count": 37,
   "metadata": {},
   "outputs": [],
   "source": [
    "# Restrições de fluxo líquido\n",
    "modelo.R1 = pyo.Constraint(expr= OA + OB + OC == 1) # Nó O\n",
    "modelo.R2 = pyo.Constraint(expr= -OA + AB + AD == 0) # Nó A\n",
    "modelo.R3 = pyo.Constraint (expr= -OB - AB + BC - CB + BD + BE == 0) # Nó B\n",
    "modelo.R4 = pyo.Constraint(expr= -OC + CB - BC + CE == 0) # Nó C\n",
    "modelo.R5 = pyo.Constraint (expr= -AD + DT1- BD + DE - ED == 0) # Nó D\n",
    "modelo.R6 = pyo.Constraint(expr= -BE + -CE - DE + ED + ET == 0) # Nó E\n",
    "modelo.R7 = pyo.Constraint (expr= -DT1 + ET == -1) # Nó T"
   ]
  },
  {
   "cell_type": "code",
   "execution_count": 38,
   "metadata": {},
   "outputs": [],
   "source": [
    "# Função objetivo\n",
    "\n",
    "Z = modelo.obj = pyo.Objective(expr= 4 * OA + 6 * OB + 5 * OC + 1 * AB + 7 * AD + \n",
    "                               + 5 * BD + 4 * BE + 2 * BC + 2 * CB + 5 * CE + DE\n",
    "                               + 6 * DT1 + ED + 8 * ET, sense = minimize)"
   ]
  },
  {
   "cell_type": "code",
   "execution_count": 39,
   "metadata": {},
   "outputs": [
    {
     "data": {
      "text/plain": [
       "{'Problem': [{'Name': 'unknown', 'Lower bound': 16.0, 'Upper bound': 16.0, 'Number of objectives': 1, 'Number of constraints': 8, 'Number of variables': 15, 'Number of nonzeros': 29, 'Sense': 'minimize'}], 'Solver': [{'Status': 'ok', 'Termination condition': 'optimal', 'Statistics': {'Branch and bound': {'Number of bounded subproblems': 0, 'Number of created subproblems': 0}}, 'Error rc': 0, 'Time': 0.05686187744140625}], 'Solution': [OrderedDict([('number of solutions', 0), ('number of solutions displayed', 0)])]}"
      ]
     },
     "execution_count": 39,
     "metadata": {},
     "output_type": "execute_result"
    }
   ],
   "source": [
    "# Chamando o solver\n",
    "\n",
    "opt = SolverFactory('glpk')\n",
    "opt.solve(modelo)"
   ]
  },
  {
   "cell_type": "code",
   "execution_count": 40,
   "metadata": {},
   "outputs": [
    {
     "name": "stdout",
     "output_type": "stream",
     "text": [
      "14 Var Declarations\n",
      "    AB : Size=1, Index=None\n",
      "        Key  : Lower : Value : Upper : Fixed : Stale : Domain\n",
      "        None :     0 :   1.0 :  None : False : False : NonNegativeReals\n",
      "    AD : Size=1, Index=None\n",
      "        Key  : Lower : Value : Upper : Fixed : Stale : Domain\n",
      "        None :     0 :   0.0 :  None : False : False : NonNegativeReals\n",
      "    BC : Size=1, Index=None\n",
      "        Key  : Lower : Value : Upper : Fixed : Stale : Domain\n",
      "        None :     0 :   0.0 :  None : False : False : NonNegativeReals\n",
      "    BD : Size=1, Index=None\n",
      "        Key  : Lower : Value : Upper : Fixed : Stale : Domain\n",
      "        None :     0 :   1.0 :  None : False : False : NonNegativeReals\n",
      "    BE : Size=1, Index=None\n",
      "        Key  : Lower : Value : Upper : Fixed : Stale : Domain\n",
      "        None :     0 :   0.0 :  None : False : False : NonNegativeReals\n",
      "    CB : Size=1, Index=None\n",
      "        Key  : Lower : Value : Upper : Fixed : Stale : Domain\n",
      "        None :     0 :   0.0 :  None : False : False : NonNegativeReals\n",
      "    CE : Size=1, Index=None\n",
      "        Key  : Lower : Value : Upper : Fixed : Stale : Domain\n",
      "        None :     0 :   0.0 :  None : False : False : NonNegativeReals\n",
      "    DE : Size=1, Index=None\n",
      "        Key  : Lower : Value : Upper : Fixed : Stale : Domain\n",
      "        None :     0 :   0.0 :  None : False : False : NonNegativeReals\n",
      "    DT : Size=1, Index=None\n",
      "        Key  : Lower : Value : Upper : Fixed : Stale : Domain\n",
      "        None :     0 :   0.0 :  None : False : False : NonNegativeReals\n",
      "    DT1 : Size=1, Index=None\n",
      "        Key  : Lower : Value : Upper : Fixed : Stale : Domain\n",
      "        None :     0 :   1.0 :  None : False : False : NonNegativeReals\n",
      "    ED : Size=1, Index=None\n",
      "        Key  : Lower : Value : Upper : Fixed : Stale : Domain\n",
      "        None :     0 :   0.0 :  None : False : False : NonNegativeReals\n",
      "    OA : Size=1, Index=None\n",
      "        Key  : Lower : Value : Upper : Fixed : Stale : Domain\n",
      "        None :     0 :   1.0 :  None : False : False : NonNegativeReals\n",
      "    OB : Size=1, Index=None\n",
      "        Key  : Lower : Value : Upper : Fixed : Stale : Domain\n",
      "        None :     0 :   0.0 :  None : False : False : NonNegativeReals\n",
      "    OC : Size=1, Index=None\n",
      "        Key  : Lower : Value : Upper : Fixed : Stale : Domain\n",
      "        None :     0 :   0.0 :  None : False : False : NonNegativeReals\n",
      "\n",
      "1 Objective Declarations\n",
      "    obj : Size=1, Index=None, Active=True\n",
      "        Key  : Active : Sense    : Expression\n",
      "        None :   True : minimize : 4*OA + 6*OB + 5*OC + AB + 7*AD + 5*BD + 4*BE + 2*BC + 2*CB + 5*CE + DE + 6*DT1 + ED + 8*DT\n",
      "\n",
      "7 Constraint Declarations\n",
      "    R1 : Size=1, Index=None, Active=True\n",
      "        Key  : Lower : Body         : Upper : Active\n",
      "        None :   1.0 : OA + OB + OC :   1.0 :   True\n",
      "    R2 : Size=1, Index=None, Active=True\n",
      "        Key  : Lower : Body           : Upper : Active\n",
      "        None :   0.0 : - OA + AB + AD :   0.0 :   True\n",
      "    R3 : Size=1, Index=None, Active=True\n",
      "        Key  : Lower : Body                          : Upper : Active\n",
      "        None :   0.0 : - OB - AB + BC - CB + BD + BE :   0.0 :   True\n",
      "    R4 : Size=1, Index=None, Active=True\n",
      "        Key  : Lower : Body                : Upper : Active\n",
      "        None :   0.0 : - OC + CB - BC + CE :   0.0 :   True\n",
      "    R5 : Size=1, Index=None, Active=True\n",
      "        Key  : Lower : Body                      : Upper : Active\n",
      "        None :   0.0 : - AD + DT1 - BD + DE - ED :   0.0 :   True\n",
      "    R6 : Size=1, Index=None, Active=True\n",
      "        Key  : Lower : Body                     : Upper : Active\n",
      "        None :   0.0 : - BE - CE - DE + ED + DT :   0.0 :   True\n",
      "    R7 : Size=1, Index=None, Active=True\n",
      "        Key  : Lower : Body       : Upper : Active\n",
      "        None :  -1.0 : - DT1 + DT :  -1.0 :   True\n",
      "\n",
      "22 Declarations: OA OB OC AB AD BD BE BC CB CE DE DT1 ED DT R1 R2 R3 R4 R5 R6 R7 obj\n",
      "\n",
      "---------------------------------------------------------------------\n",
      "x_OA =  1.0\n",
      "x_OB =  0.0\n",
      "x_OC =  0.0\n",
      "x_AB =  1.0\n",
      "x_AD =  0.0\n",
      "x_BD =  1.0\n",
      "x_BE =  0.0\n",
      "x_BC =  0.0\n",
      "x_CB =  0.0\n",
      "x_CE =  0.0\n",
      "x_DE =  0.0\n",
      "x_DT =  1.0\n",
      "x_ED =  0.0\n",
      "x_ET =  0.0\n",
      "Z =  16.0\n"
     ]
    }
   ],
   "source": [
    "modelo.pprint()\n",
    "\n",
    "print('\\n---------------------------------------------------------------------')\n",
    "print('x_OA = ', pyo.value(OA))\n",
    "print('x_OB = ', pyo.value(OB))\n",
    "print('x_OC = ', pyo.value(OC))\n",
    "print('x_AB = ', pyo.value(AB))\n",
    "print('x_AD = ', pyo.value(AD))\n",
    "print('x_BD = ', pyo.value(BD))\n",
    "print('x_BE = ', pyo.value(BE))\n",
    "print('x_BC = ', pyo.value(BC))\n",
    "print('x_CB = ', pyo.value(CB))\n",
    "print('x_CE = ', pyo.value(CE))\n",
    "print('x_DE = ', pyo.value(DE))\n",
    "print('x_DT = ', pyo.value(DT1))\n",
    "print('x_ED = ', pyo.value(ED))\n",
    "print('x_ET = ', pyo.value(ET))\n",
    "print('Z = ', pyo.value(Z))"
   ]
  }
 ],
 "metadata": {
  "kernelspec": {
   "display_name": "Python 3",
   "language": "python",
   "name": "python3"
  },
  "language_info": {
   "codemirror_mode": {
    "name": "ipython",
    "version": 3
   },
   "file_extension": ".py",
   "mimetype": "text/x-python",
   "name": "python",
   "nbconvert_exporter": "python",
   "pygments_lexer": "ipython3",
   "version": "3.8.5"
  }
 },
 "nbformat": 4,
 "nbformat_minor": 4
}
