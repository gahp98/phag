{
 "cells": [
  {
   "cell_type": "markdown",
   "metadata": {},
   "source": [
    "# Questão 4.2 - Pedro Henrique Arruda Gonçalves"
   ]
  },
  {
   "cell_type": "code",
   "execution_count": 29,
   "metadata": {},
   "outputs": [],
   "source": [
    "import pyomo.environ as pyo\n",
    "from pyomo.environ import *\n",
    "from pyomo.opt import SolverFactory"
   ]
  },
  {
   "cell_type": "code",
   "execution_count": 30,
   "metadata": {},
   "outputs": [],
   "source": [
    "modelo = pyo.ConcreteModel()"
   ]
  },
  {
   "cell_type": "code",
   "execution_count": 31,
   "metadata": {},
   "outputs": [
    {
     "data": {
      "text/plain": [
       "<pyomo.core.base.PyomoModel.ConcreteModel at 0x231295c1e40>"
      ]
     },
     "execution_count": 31,
     "metadata": {},
     "output_type": "execute_result"
    }
   ],
   "source": [
    "modelo"
   ]
  },
  {
   "cell_type": "code",
   "execution_count": 32,
   "metadata": {},
   "outputs": [],
   "source": [
    "OA = modelo.OA = pyo.Var(domain=pyo.NonNegativeReals)\n",
    "OB = modelo.OB = pyo.Var(domain=pyo.NonNegativeReals)\n",
    "OC = modelo.OC = pyo.Var(domain=pyo.NonNegativeReals)\n",
    "AD = modelo.AD = pyo.Var(domain=pyo.NonNegativeReals)\n",
    "AC = modelo.AC = pyo.Var(domain=pyo.NonNegativeReals)\n",
    "BC = modelo.BC = pyo.Var(domain=pyo.NonNegativeReals)\n",
    "BE = modelo.BE = pyo.Var(domain=pyo.NonNegativeReals)\n",
    "CD = modelo.CD = pyo.Var(domain=pyo.NonNegativeReals)\n",
    "CF = modelo.CF = pyo.Var(domain=pyo.NonNegativeReals)\n",
    "CE = modelo.CE = pyo.Var(domain=pyo.NonNegativeReals)\n",
    "DF = modelo.DF = pyo.Var(domain=pyo.NonNegativeReals)\n",
    "DG = modelo.DG = pyo.Var(domain=pyo.NonNegativeReals)\n",
    "EF = modelo.EF = pyo.Var(domain=pyo.NonNegativeReals)\n",
    "EH = modelo.EH = pyo.Var(domain=pyo.NonNegativeReals)\n",
    "EI = modelo.EI = pyo.Var(domain=pyo.NonNegativeReals)\n",
    "FG = modelo.FG = pyo.Var(domain=pyo.NonNegativeReals)\n",
    "FH = modelo.FH = pyo.Var(domain=pyo.NonNegativeReals)\n",
    "GT = modelo.GT = pyo.Var(domain=pyo.NonNegativeReals)\n",
    "GH = modelo.GH = pyo.Var(domain=pyo.NonNegativeReals)\n",
    "HG = modelo.HG = pyo.Var(domain=pyo.NonNegativeReals)\n",
    "HT = modelo.HT = pyo.Var(domain=pyo.NonNegativeReals)\n",
    "HI = modelo.HI = pyo.Var(domain=pyo.NonNegativeReals)\n",
    "IH = modelo.IH = pyo.Var(domain=pyo.NonNegativeReals)\n",
    "IT = modelo.IT = pyo.Var(domain=pyo.NonNegativeReals)"
   ]
  },
  {
   "cell_type": "code",
   "execution_count": 33,
   "metadata": {},
   "outputs": [],
   "source": [
    "# Restrições de fluxo líquido\n",
    "modelo.R1 = pyo.Constraint(expr= OA + OB + OC == 1) # Nó O\n",
    "modelo.R2 = pyo.Constraint(expr= -OA + AC + AD == 0) # Nó A\n",
    "modelo.R3 = pyo.Constraint (expr= -OB + BC + BE == 0) # Nó B\n",
    "modelo.R4 = pyo.Constraint(expr= -OC - BC - AC + CE + CD + CF == 0) # Nó C\n",
    "modelo.R5 = pyo.Constraint (expr= -AD - CD + DF + DG == 0) # Nó D\n",
    "modelo.R6 = pyo.Constraint(expr= -BE - CE + EF + EH + EI == 0) # Nó E\n",
    "modelo.R7 = pyo.Constraint(expr= -DF - CF - EF + FH + FG == 0) # Nó F\n",
    "modelo.R8 = pyo.Constraint(expr= -DG - FG + GH - HG + GT == 0) # Nó G\n",
    "modelo.R9 = pyo.Constraint(expr= -GH + HG + HI - IH + HT - FH == 0) # Nó H\n",
    "modelo.R10 = pyo.Constraint(expr= -HI + IH - EI + IT  == 0) # Nó I\n",
    "modelo.R11 = pyo.Constraint (expr= -GT - HT - IT == -1) # Nó T"
   ]
  },
  {
   "cell_type": "code",
   "execution_count": 34,
   "metadata": {},
   "outputs": [],
   "source": [
    "# Função objetivo\n",
    "\n",
    "Z = modelo.obj = pyo.Objective(expr= 4 * OA + 3 * OB + 6 * OC + 3 * AD + 5 * AC + \n",
    "                               + 4 * BC + 6 * BE + 2 * CD + 2 * CF + 5 * CE + 2 * DF\n",
    "                               + 4 * DG + EF + 2 * EH + 5 * EI + 2 * FG + 5 * FH\n",
    "                               + 2 * GH + 7 * GT + 2 * HG + 8 * HT + 3 * HI + 3 * IH\n",
    "                               + 4 * IT , sense = minimize)"
   ]
  },
  {
   "cell_type": "code",
   "execution_count": 35,
   "metadata": {},
   "outputs": [
    {
     "data": {
      "text/plain": [
       "{'Problem': [{'Name': 'unknown', 'Lower bound': 17.0, 'Upper bound': 17.0, 'Number of objectives': 1, 'Number of constraints': 12, 'Number of variables': 25, 'Number of nonzeros': 48, 'Sense': 'minimize'}], 'Solver': [{'Status': 'ok', 'Termination condition': 'optimal', 'Statistics': {'Branch and bound': {'Number of bounded subproblems': 0, 'Number of created subproblems': 0}}, 'Error rc': 0, 'Time': 0.04283618927001953}], 'Solution': [OrderedDict([('number of solutions', 0), ('number of solutions displayed', 0)])]}"
      ]
     },
     "execution_count": 35,
     "metadata": {},
     "output_type": "execute_result"
    }
   ],
   "source": [
    "# Chamando o solver\n",
    "\n",
    "opt = SolverFactory('glpk')\n",
    "opt.solve(modelo)"
   ]
  },
  {
   "cell_type": "code",
   "execution_count": 37,
   "metadata": {},
   "outputs": [
    {
     "name": "stdout",
     "output_type": "stream",
     "text": [
      "24 Var Declarations\n",
      "    AC : Size=1, Index=None\n",
      "        Key  : Lower : Value : Upper : Fixed : Stale : Domain\n",
      "        None :     0 :   0.0 :  None : False : False : NonNegativeReals\n",
      "    AD : Size=1, Index=None\n",
      "        Key  : Lower : Value : Upper : Fixed : Stale : Domain\n",
      "        None :     0 :   0.0 :  None : False : False : NonNegativeReals\n",
      "    BC : Size=1, Index=None\n",
      "        Key  : Lower : Value : Upper : Fixed : Stale : Domain\n",
      "        None :     0 :   0.0 :  None : False : False : NonNegativeReals\n",
      "    BE : Size=1, Index=None\n",
      "        Key  : Lower : Value : Upper : Fixed : Stale : Domain\n",
      "        None :     0 :   0.0 :  None : False : False : NonNegativeReals\n",
      "    CD : Size=1, Index=None\n",
      "        Key  : Lower : Value : Upper : Fixed : Stale : Domain\n",
      "        None :     0 :   0.0 :  None : False : False : NonNegativeReals\n",
      "    CE : Size=1, Index=None\n",
      "        Key  : Lower : Value : Upper : Fixed : Stale : Domain\n",
      "        None :     0 :   0.0 :  None : False : False : NonNegativeReals\n",
      "    CF : Size=1, Index=None\n",
      "        Key  : Lower : Value : Upper : Fixed : Stale : Domain\n",
      "        None :     0 :   1.0 :  None : False : False : NonNegativeReals\n",
      "    DF : Size=1, Index=None\n",
      "        Key  : Lower : Value : Upper : Fixed : Stale : Domain\n",
      "        None :     0 :   0.0 :  None : False : False : NonNegativeReals\n",
      "    DG : Size=1, Index=None\n",
      "        Key  : Lower : Value : Upper : Fixed : Stale : Domain\n",
      "        None :     0 :   0.0 :  None : False : False : NonNegativeReals\n",
      "    EF : Size=1, Index=None\n",
      "        Key  : Lower : Value : Upper : Fixed : Stale : Domain\n",
      "        None :     0 :   0.0 :  None : False : False : NonNegativeReals\n",
      "    EH : Size=1, Index=None\n",
      "        Key  : Lower : Value : Upper : Fixed : Stale : Domain\n",
      "        None :     0 :   0.0 :  None : False : False : NonNegativeReals\n",
      "    EI : Size=1, Index=None\n",
      "        Key  : Lower : Value : Upper : Fixed : Stale : Domain\n",
      "        None :     0 :   0.0 :  None : False : False : NonNegativeReals\n",
      "    FG : Size=1, Index=None\n",
      "        Key  : Lower : Value : Upper : Fixed : Stale : Domain\n",
      "        None :     0 :   1.0 :  None : False : False : NonNegativeReals\n",
      "    FH : Size=1, Index=None\n",
      "        Key  : Lower : Value : Upper : Fixed : Stale : Domain\n",
      "        None :     0 :   0.0 :  None : False : False : NonNegativeReals\n",
      "    GH : Size=1, Index=None\n",
      "        Key  : Lower : Value : Upper : Fixed : Stale : Domain\n",
      "        None :     0 :   0.0 :  None : False : False : NonNegativeReals\n",
      "    GT : Size=1, Index=None\n",
      "        Key  : Lower : Value : Upper : Fixed : Stale : Domain\n",
      "        None :     0 :   1.0 :  None : False : False : NonNegativeReals\n",
      "    HG : Size=1, Index=None\n",
      "        Key  : Lower : Value : Upper : Fixed : Stale : Domain\n",
      "        None :     0 :   0.0 :  None : False : False : NonNegativeReals\n",
      "    HI : Size=1, Index=None\n",
      "        Key  : Lower : Value : Upper : Fixed : Stale : Domain\n",
      "        None :     0 :   0.0 :  None : False : False : NonNegativeReals\n",
      "    HT : Size=1, Index=None\n",
      "        Key  : Lower : Value : Upper : Fixed : Stale : Domain\n",
      "        None :     0 :   0.0 :  None : False : False : NonNegativeReals\n",
      "    IH : Size=1, Index=None\n",
      "        Key  : Lower : Value : Upper : Fixed : Stale : Domain\n",
      "        None :     0 :   0.0 :  None : False : False : NonNegativeReals\n",
      "    IT : Size=1, Index=None\n",
      "        Key  : Lower : Value : Upper : Fixed : Stale : Domain\n",
      "        None :     0 :   0.0 :  None : False : False : NonNegativeReals\n",
      "    OA : Size=1, Index=None\n",
      "        Key  : Lower : Value : Upper : Fixed : Stale : Domain\n",
      "        None :     0 :   0.0 :  None : False : False : NonNegativeReals\n",
      "    OB : Size=1, Index=None\n",
      "        Key  : Lower : Value : Upper : Fixed : Stale : Domain\n",
      "        None :     0 :   0.0 :  None : False : False : NonNegativeReals\n",
      "    OC : Size=1, Index=None\n",
      "        Key  : Lower : Value : Upper : Fixed : Stale : Domain\n",
      "        None :     0 :   1.0 :  None : False : False : NonNegativeReals\n",
      "\n",
      "1 Objective Declarations\n",
      "    obj : Size=1, Index=None, Active=True\n",
      "        Key  : Active : Sense    : Expression\n",
      "        None :   True : minimize : 4*OA + 3*OB + 6*OC + 3*AD + 5*AC + 4*BC + 6*BE + 2*CD + 2*CF + 5*CE + 2*DF + 4*DG + EF + 2*EH + 5*EI + 2*FG + 5*FH + 2*GH + 7*GT + 2*HG + 8*HT + 3*HI + 3*IH + 4*IT\n",
      "\n",
      "11 Constraint Declarations\n",
      "    R1 : Size=1, Index=None, Active=True\n",
      "        Key  : Lower : Body         : Upper : Active\n",
      "        None :   1.0 : OA + OB + OC :   1.0 :   True\n",
      "    R10 : Size=1, Index=None, Active=True\n",
      "        Key  : Lower : Body                : Upper : Active\n",
      "        None :   0.0 : - HI + IH - EI + IT :   0.0 :   True\n",
      "    R11 : Size=1, Index=None, Active=True\n",
      "        Key  : Lower : Body           : Upper : Active\n",
      "        None :  -1.0 : - GT - HT - IT :  -1.0 :   True\n",
      "    R2 : Size=1, Index=None, Active=True\n",
      "        Key  : Lower : Body           : Upper : Active\n",
      "        None :   0.0 : - OA + AC + AD :   0.0 :   True\n",
      "    R3 : Size=1, Index=None, Active=True\n",
      "        Key  : Lower : Body           : Upper : Active\n",
      "        None :   0.0 : - OB + BC + BE :   0.0 :   True\n",
      "    R4 : Size=1, Index=None, Active=True\n",
      "        Key  : Lower : Body                          : Upper : Active\n",
      "        None :   0.0 : - OC - BC - AC + CE + CD + CF :   0.0 :   True\n",
      "    R5 : Size=1, Index=None, Active=True\n",
      "        Key  : Lower : Body                : Upper : Active\n",
      "        None :   0.0 : - AD - CD + DF + DG :   0.0 :   True\n",
      "    R6 : Size=1, Index=None, Active=True\n",
      "        Key  : Lower : Body                     : Upper : Active\n",
      "        None :   0.0 : - BE - CE + EF + EH + EI :   0.0 :   True\n",
      "    R7 : Size=1, Index=None, Active=True\n",
      "        Key  : Lower : Body                     : Upper : Active\n",
      "        None :   0.0 : - DF - CF - EF + FH + FG :   0.0 :   True\n",
      "    R8 : Size=1, Index=None, Active=True\n",
      "        Key  : Lower : Body                     : Upper : Active\n",
      "        None :   0.0 : - DG - FG + GH - HG + GT :   0.0 :   True\n",
      "    R9 : Size=1, Index=None, Active=True\n",
      "        Key  : Lower : Body                          : Upper : Active\n",
      "        None :   0.0 : - GH + HG + HI - IH + HT - FH :   0.0 :   True\n",
      "\n",
      "36 Declarations: OA OB OC AD AC BC BE CD CF CE DF DG EF EH EI FG FH GT GH HG HT HI IH IT R1 R2 R3 R4 R5 R6 R7 R8 R9 R10 R11 obj\n",
      "\n",
      "---------------------------------------------------------------------\n",
      "x_OA =  0.0\n",
      "x_OB =  0.0\n",
      "x_OC =  1.0\n",
      "x_AD =  0.0\n",
      "x_AC =  0.0\n",
      "x_BC =  0.0\n",
      "x_BE =  0.0\n",
      "x_CD =  0.0\n",
      "x_CF =  1.0\n",
      "x_CE =  0.0\n",
      "x_DF =  0.0\n",
      "x_DG =  0.0\n",
      "x_EF =  0.0\n",
      "x_EH =  0.0\n",
      "x_EI =  0.0\n",
      "x_FG =  1.0\n",
      "x_FH =  0.0\n",
      "x_GT =  1.0\n",
      "x_GH =  0.0\n",
      "x_HG =  0.0\n",
      "x_HT =  0.0\n",
      "x_HI =  0.0\n",
      "x_IH =  0.0\n",
      "x_IT =  0.0\n",
      "Z =  17.0\n"
     ]
    }
   ],
   "source": [
    "modelo.pprint()\n",
    "\n",
    "print('\\n---------------------------------------------------------------------')\n",
    "print('x_OA = ', pyo.value(OA))\n",
    "print('x_OB = ', pyo.value(OB))\n",
    "print('x_OC = ', pyo.value(OC))\n",
    "print('x_AD = ', pyo.value(AD))\n",
    "print('x_AC = ', pyo.value(AC))\n",
    "print('x_BC = ', pyo.value(BC))\n",
    "print('x_BE = ', pyo.value(BE))\n",
    "print('x_CD = ', pyo.value(CD))\n",
    "print('x_CF = ', pyo.value(CF))\n",
    "print('x_CE = ', pyo.value(CE))\n",
    "print('x_DF = ', pyo.value(DF))\n",
    "print('x_DG = ', pyo.value(DG))\n",
    "print('x_EF = ', pyo.value(EF))\n",
    "print('x_EH = ', pyo.value(EH))\n",
    "print('x_EI = ', pyo.value(EI))\n",
    "print('x_FG = ', pyo.value(FG))\n",
    "print('x_FH = ', pyo.value(FH))\n",
    "print('x_GT = ', pyo.value(GT))\n",
    "print('x_GH = ', pyo.value(GH))\n",
    "print('x_HG = ', pyo.value(HG))\n",
    "print('x_HT = ', pyo.value(HT))\n",
    "print('x_HI = ', pyo.value(HI))\n",
    "print('x_IH = ', pyo.value(IH))\n",
    "print('x_IT = ', pyo.value(IT))\n",
    "print('Z = ', pyo.value(Z))"
   ]
  }
 ],
 "metadata": {
  "kernelspec": {
   "display_name": "Python 3",
   "language": "python",
   "name": "python3"
  },
  "language_info": {
   "codemirror_mode": {
    "name": "ipython",
    "version": 3
   },
   "file_extension": ".py",
   "mimetype": "text/x-python",
   "name": "python",
   "nbconvert_exporter": "python",
   "pygments_lexer": "ipython3",
   "version": "3.8.5"
  }
 },
 "nbformat": 4,
 "nbformat_minor": 4
}
