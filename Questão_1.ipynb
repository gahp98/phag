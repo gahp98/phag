{
 "cells": [
  {
   "cell_type": "markdown",
   "metadata": {},
   "source": [
    "# Questão 1 - Pedro Henrique Arruda Gonçalves"
   ]
  },
  {
   "cell_type": "code",
   "execution_count": 21,
   "metadata": {},
   "outputs": [],
   "source": [
    "import pandas as pd"
   ]
  },
  {
   "cell_type": "code",
   "execution_count": 22,
   "metadata": {},
   "outputs": [
    {
     "data": {
      "text/html": [
       "<div>\n",
       "<style scoped>\n",
       "    .dataframe tbody tr th:only-of-type {\n",
       "        vertical-align: middle;\n",
       "    }\n",
       "\n",
       "    .dataframe tbody tr th {\n",
       "        vertical-align: top;\n",
       "    }\n",
       "\n",
       "    .dataframe thead th {\n",
       "        text-align: right;\n",
       "    }\n",
       "</style>\n",
       "<table border=\"1\" class=\"dataframe\">\n",
       "  <thead>\n",
       "    <tr style=\"text-align: right;\">\n",
       "      <th></th>\n",
       "      <th></th>\n",
       "      <th>CD1</th>\n",
       "      <th>CD2</th>\n",
       "      <th>CD3</th>\n",
       "      <th>CD4</th>\n",
       "      <th>Capacidade</th>\n",
       "    </tr>\n",
       "  </thead>\n",
       "  <tbody>\n",
       "    <tr>\n",
       "      <th>0</th>\n",
       "      <td>Fábrica 1</td>\n",
       "      <td>800</td>\n",
       "      <td>1300</td>\n",
       "      <td>400</td>\n",
       "      <td>700</td>\n",
       "      <td>12</td>\n",
       "    </tr>\n",
       "    <tr>\n",
       "      <th>1</th>\n",
       "      <td>Fábrica 2</td>\n",
       "      <td>1100</td>\n",
       "      <td>1400</td>\n",
       "      <td>600</td>\n",
       "      <td>1000</td>\n",
       "      <td>17</td>\n",
       "    </tr>\n",
       "    <tr>\n",
       "      <th>2</th>\n",
       "      <td>Fábrica 3</td>\n",
       "      <td>600</td>\n",
       "      <td>1200</td>\n",
       "      <td>800</td>\n",
       "      <td>900</td>\n",
       "      <td>11</td>\n",
       "    </tr>\n",
       "    <tr>\n",
       "      <th>3</th>\n",
       "      <td>Demanda</td>\n",
       "      <td>10</td>\n",
       "      <td>10</td>\n",
       "      <td>10</td>\n",
       "      <td>10</td>\n",
       "      <td>0</td>\n",
       "    </tr>\n",
       "  </tbody>\n",
       "</table>\n",
       "</div>"
      ],
      "text/plain": [
       "               CD1   CD2  CD3   CD4  Capacidade\n",
       "0  Fábrica 1   800  1300  400   700          12\n",
       "1  Fábrica 2  1100  1400  600  1000          17\n",
       "2  Fábrica 3   600  1200  800   900          11\n",
       "3    Demanda    10    10   10    10           0"
      ]
     },
     "execution_count": 22,
     "metadata": {},
     "output_type": "execute_result"
    }
   ],
   "source": [
    "lst1 = [\"Fábrica 1\", \"Fábrica 2\", \"Fábrica 3\", \"Demanda\"]\n",
    "lst2 = [800, 1100, 600, 10]\n",
    "lst3 = [1300, 1400, 1200, 10]\n",
    "lst4 = [400, 600, 800, 10]\n",
    "lst5 = [700, 1000, 900, 10]\n",
    "lst6 = [12, 17, 11, 0]\n",
    "\n",
    "df_aux = list(zip(lst1,lst2,lst3,lst4,lst5,lst6))\n",
    "\n",
    "df = pd.DataFrame(df_aux)\n",
    "\n",
    "df.columns = [\"\", \"CD1\", \"CD2\", \"CD3\", \"CD4\", \"Capacidade\"]\n",
    "\n",
    "df # Iniciando o dataframe da questão com as respectivas distâncias das fábricas\n",
    "   # aos CDs, e também com as capacidades das fábricas e as demandas dos CDs "
   ]
  },
  {
   "cell_type": "code",
   "execution_count": 23,
   "metadata": {},
   "outputs": [
    {
     "data": {
      "text/html": [
       "<div>\n",
       "<style scoped>\n",
       "    .dataframe tbody tr th:only-of-type {\n",
       "        vertical-align: middle;\n",
       "    }\n",
       "\n",
       "    .dataframe tbody tr th {\n",
       "        vertical-align: top;\n",
       "    }\n",
       "\n",
       "    .dataframe thead th {\n",
       "        text-align: right;\n",
       "    }\n",
       "</style>\n",
       "<table border=\"1\" class=\"dataframe\">\n",
       "  <thead>\n",
       "    <tr style=\"text-align: right;\">\n",
       "      <th></th>\n",
       "      <th>CD1</th>\n",
       "      <th>CD2</th>\n",
       "      <th>CD3</th>\n",
       "      <th>CD4</th>\n",
       "      <th>Capacidade</th>\n",
       "    </tr>\n",
       "    <tr>\n",
       "      <th></th>\n",
       "      <th></th>\n",
       "      <th></th>\n",
       "      <th></th>\n",
       "      <th></th>\n",
       "      <th></th>\n",
       "    </tr>\n",
       "  </thead>\n",
       "  <tbody>\n",
       "    <tr>\n",
       "      <th>Fábrica 1</th>\n",
       "      <td>800</td>\n",
       "      <td>1300</td>\n",
       "      <td>400</td>\n",
       "      <td>700</td>\n",
       "      <td>12</td>\n",
       "    </tr>\n",
       "    <tr>\n",
       "      <th>Fábrica 2</th>\n",
       "      <td>1100</td>\n",
       "      <td>1400</td>\n",
       "      <td>600</td>\n",
       "      <td>1000</td>\n",
       "      <td>17</td>\n",
       "    </tr>\n",
       "    <tr>\n",
       "      <th>Fábrica 3</th>\n",
       "      <td>600</td>\n",
       "      <td>1200</td>\n",
       "      <td>800</td>\n",
       "      <td>900</td>\n",
       "      <td>11</td>\n",
       "    </tr>\n",
       "    <tr>\n",
       "      <th>Demanda</th>\n",
       "      <td>10</td>\n",
       "      <td>10</td>\n",
       "      <td>10</td>\n",
       "      <td>10</td>\n",
       "      <td>0</td>\n",
       "    </tr>\n",
       "  </tbody>\n",
       "</table>\n",
       "</div>"
      ],
      "text/plain": [
       "            CD1   CD2  CD3   CD4  Capacidade\n",
       "                                            \n",
       "Fábrica 1   800  1300  400   700          12\n",
       "Fábrica 2  1100  1400  600  1000          17\n",
       "Fábrica 3   600  1200  800   900          11\n",
       "Demanda      10    10   10    10           0"
      ]
     },
     "execution_count": 23,
     "metadata": {},
     "output_type": "execute_result"
    }
   ],
   "source": [
    "df = df.set_index(df.iloc[0:4,0]) # Alterar o índice\n",
    "df.drop(\"\", axis=1, inplace = True) # Excluir a primeira coluna\n",
    "df"
   ]
  },
  {
   "cell_type": "code",
   "execution_count": 24,
   "metadata": {},
   "outputs": [
    {
     "data": {
      "text/html": [
       "<div>\n",
       "<style scoped>\n",
       "    .dataframe tbody tr th:only-of-type {\n",
       "        vertical-align: middle;\n",
       "    }\n",
       "\n",
       "    .dataframe tbody tr th {\n",
       "        vertical-align: top;\n",
       "    }\n",
       "\n",
       "    .dataframe thead th {\n",
       "        text-align: right;\n",
       "    }\n",
       "</style>\n",
       "<table border=\"1\" class=\"dataframe\">\n",
       "  <thead>\n",
       "    <tr style=\"text-align: right;\">\n",
       "      <th></th>\n",
       "      <th>CD1</th>\n",
       "      <th>CD2</th>\n",
       "      <th>CD3</th>\n",
       "      <th>CD4</th>\n",
       "      <th>Capacidade</th>\n",
       "    </tr>\n",
       "    <tr>\n",
       "      <th></th>\n",
       "      <th></th>\n",
       "      <th></th>\n",
       "      <th></th>\n",
       "      <th></th>\n",
       "      <th></th>\n",
       "    </tr>\n",
       "  </thead>\n",
       "  <tbody>\n",
       "    <tr>\n",
       "      <th>Fábrica 1</th>\n",
       "      <td>500.0</td>\n",
       "      <td>750.0</td>\n",
       "      <td>300.0</td>\n",
       "      <td>450.0</td>\n",
       "      <td>12</td>\n",
       "    </tr>\n",
       "    <tr>\n",
       "      <th>Fábrica 2</th>\n",
       "      <td>650.0</td>\n",
       "      <td>800.0</td>\n",
       "      <td>400.0</td>\n",
       "      <td>600.0</td>\n",
       "      <td>17</td>\n",
       "    </tr>\n",
       "    <tr>\n",
       "      <th>Fábrica 3</th>\n",
       "      <td>400.0</td>\n",
       "      <td>700.0</td>\n",
       "      <td>500.0</td>\n",
       "      <td>550.0</td>\n",
       "      <td>11</td>\n",
       "    </tr>\n",
       "    <tr>\n",
       "      <th>Demanda</th>\n",
       "      <td>10.0</td>\n",
       "      <td>10.0</td>\n",
       "      <td>10.0</td>\n",
       "      <td>10.0</td>\n",
       "      <td>0</td>\n",
       "    </tr>\n",
       "  </tbody>\n",
       "</table>\n",
       "</div>"
      ],
      "text/plain": [
       "             CD1    CD2    CD3    CD4  Capacidade\n",
       "                                                 \n",
       "Fábrica 1  500.0  750.0  300.0  450.0          12\n",
       "Fábrica 2  650.0  800.0  400.0  600.0          17\n",
       "Fábrica 3  400.0  700.0  500.0  550.0          11\n",
       "Demanda     10.0   10.0   10.0   10.0           0"
      ]
     },
     "execution_count": 24,
     "metadata": {},
     "output_type": "execute_result"
    }
   ],
   "source": [
    "df.iloc[0:3,0] = df.iloc[0:3,0]*0.5 +100\n",
    "df.iloc[0:3,1] = df.iloc[0:3,1]*0.5 +100\n",
    "df.iloc[0:3,2] = df.iloc[0:3,2]*0.5 +100\n",
    "df.iloc[0:3,3] = df.iloc[0:3,3]*0.5 +100\n",
    "\n",
    "df # Descobrindo o custo total: é a distância multiplicada de 0,5 e depois somada ao um custo fixo de 100"
   ]
  },
  {
   "cell_type": "code",
   "execution_count": 25,
   "metadata": {},
   "outputs": [
    {
     "data": {
      "text/plain": [
       "\n",
       "Fábrica 1    12\n",
       "Fábrica 2    17\n",
       "Fábrica 3    11\n",
       "Name: Capacidade, dtype: int64"
      ]
     },
     "execution_count": 25,
     "metadata": {},
     "output_type": "execute_result"
    }
   ],
   "source": [
    "df.Capacidade.drop(\"Demanda\")"
   ]
  },
  {
   "cell_type": "code",
   "execution_count": 26,
   "metadata": {},
   "outputs": [
    {
     "data": {
      "text/plain": [
       "\n",
       "Fábrica 1    12\n",
       "Fábrica 2    17\n",
       "Fábrica 3    11\n",
       "Name: Capacidade, dtype: int64"
      ]
     },
     "execution_count": 26,
     "metadata": {},
     "output_type": "execute_result"
    }
   ],
   "source": [
    "df_capacidades = df.Capacidade.drop(\"Demanda\")\n",
    "df_capacidades"
   ]
  },
  {
   "cell_type": "code",
   "execution_count": 27,
   "metadata": {},
   "outputs": [
    {
     "data": {
      "text/plain": [
       "CD1    10.0\n",
       "CD2    10.0\n",
       "CD3    10.0\n",
       "CD4    10.0\n",
       "Name: Demanda, dtype: float64"
      ]
     },
     "execution_count": 27,
     "metadata": {},
     "output_type": "execute_result"
    }
   ],
   "source": [
    "df_demandas = df.loc[\"Demanda\"].drop(\"Capacidade\")\n",
    "df_demandas"
   ]
  },
  {
   "cell_type": "code",
   "execution_count": 28,
   "metadata": {},
   "outputs": [
    {
     "data": {
      "text/html": [
       "<div>\n",
       "<style scoped>\n",
       "    .dataframe tbody tr th:only-of-type {\n",
       "        vertical-align: middle;\n",
       "    }\n",
       "\n",
       "    .dataframe tbody tr th {\n",
       "        vertical-align: top;\n",
       "    }\n",
       "\n",
       "    .dataframe thead th {\n",
       "        text-align: right;\n",
       "    }\n",
       "</style>\n",
       "<table border=\"1\" class=\"dataframe\">\n",
       "  <thead>\n",
       "    <tr style=\"text-align: right;\">\n",
       "      <th></th>\n",
       "      <th>CD1</th>\n",
       "      <th>CD2</th>\n",
       "      <th>CD3</th>\n",
       "      <th>CD4</th>\n",
       "    </tr>\n",
       "    <tr>\n",
       "      <th></th>\n",
       "      <th></th>\n",
       "      <th></th>\n",
       "      <th></th>\n",
       "      <th></th>\n",
       "    </tr>\n",
       "  </thead>\n",
       "  <tbody>\n",
       "    <tr>\n",
       "      <th>Fábrica 1</th>\n",
       "      <td>500.0</td>\n",
       "      <td>750.0</td>\n",
       "      <td>300.0</td>\n",
       "      <td>450.0</td>\n",
       "    </tr>\n",
       "    <tr>\n",
       "      <th>Fábrica 2</th>\n",
       "      <td>650.0</td>\n",
       "      <td>800.0</td>\n",
       "      <td>400.0</td>\n",
       "      <td>600.0</td>\n",
       "    </tr>\n",
       "    <tr>\n",
       "      <th>Fábrica 3</th>\n",
       "      <td>400.0</td>\n",
       "      <td>700.0</td>\n",
       "      <td>500.0</td>\n",
       "      <td>550.0</td>\n",
       "    </tr>\n",
       "  </tbody>\n",
       "</table>\n",
       "</div>"
      ],
      "text/plain": [
       "             CD1    CD2    CD3    CD4\n",
       "                                     \n",
       "Fábrica 1  500.0  750.0  300.0  450.0\n",
       "Fábrica 2  650.0  800.0  400.0  600.0\n",
       "Fábrica 3  400.0  700.0  500.0  550.0"
      ]
     },
     "execution_count": 28,
     "metadata": {},
     "output_type": "execute_result"
    }
   ],
   "source": [
    "df_custos = df.iloc[:-1,:-1]\n",
    "df_custos"
   ]
  },
  {
   "cell_type": "markdown",
   "metadata": {},
   "source": [
    "## Pyomo"
   ]
  },
  {
   "cell_type": "code",
   "execution_count": 29,
   "metadata": {},
   "outputs": [],
   "source": [
    "import pyomo.environ as pyo\n",
    "from pyomo.environ import *\n",
    "from pyomo.opt import SolverFactory"
   ]
  },
  {
   "cell_type": "code",
   "execution_count": 30,
   "metadata": {},
   "outputs": [],
   "source": [
    "modelo = pyo.ConcreteModel()"
   ]
  },
  {
   "cell_type": "markdown",
   "metadata": {},
   "source": [
    "### Criando índices"
   ]
  },
  {
   "cell_type": "code",
   "execution_count": 31,
   "metadata": {},
   "outputs": [],
   "source": [
    "modelo.i = Set(initialize= df_custos.index, doc='Fábricas')\n",
    "modelo.j = Set(initialize= df_custos.columns, doc = \"CDs\")"
   ]
  },
  {
   "cell_type": "markdown",
   "metadata": {},
   "source": [
    "### Criando os parâmetros"
   ]
  },
  {
   "cell_type": "code",
   "execution_count": 32,
   "metadata": {},
   "outputs": [],
   "source": [
    "modelo.capacidades = Param (modelo.i, initialize= df_capacidades, doc='Capacidades')\n",
    "modelo.demandas = Param(modelo.j, initialize=df_demandas, doc='Demandas')"
   ]
  },
  {
   "cell_type": "code",
   "execution_count": 33,
   "metadata": {},
   "outputs": [
    {
     "data": {
      "text/plain": [
       "{('Fábrica 1', 'CD1'): 500.0,\n",
       " ('Fábrica 1', 'CD2'): 750.0,\n",
       " ('Fábrica 1', 'CD3'): 300.0,\n",
       " ('Fábrica 1', 'CD4'): 450.0,\n",
       " ('Fábrica 2', 'CD1'): 650.0,\n",
       " ('Fábrica 2', 'CD2'): 800.0,\n",
       " ('Fábrica 2', 'CD3'): 400.0,\n",
       " ('Fábrica 2', 'CD4'): 600.0,\n",
       " ('Fábrica 3', 'CD1'): 400.0,\n",
       " ('Fábrica 3', 'CD2'): 700.0,\n",
       " ('Fábrica 3', 'CD3'): 500.0,\n",
       " ('Fábrica 3', 'CD4'): 550.0}"
      ]
     },
     "execution_count": 33,
     "metadata": {},
     "output_type": "execute_result"
    }
   ],
   "source": [
    "dicionario_custos = df_custos.stack().to_dict()\n",
    "dicionario_custos"
   ]
  },
  {
   "cell_type": "code",
   "execution_count": 34,
   "metadata": {},
   "outputs": [],
   "source": [
    "modelo.custos = Param(modelo.i, modelo.j, initialize = dicionario_custos, doc='Custos')"
   ]
  },
  {
   "cell_type": "markdown",
   "metadata": {},
   "source": [
    "### Criando as variáveis"
   ]
  },
  {
   "cell_type": "code",
   "execution_count": 35,
   "metadata": {},
   "outputs": [],
   "source": [
    "modelo.x = Var(modelo.i, modelo.j, bounds=(0.0,None), doc='Quantidades Enviadas')"
   ]
  },
  {
   "cell_type": "markdown",
   "metadata": {},
   "source": [
    "### Criando as restrições"
   ]
  },
  {
   "cell_type": "code",
   "execution_count": 36,
   "metadata": {},
   "outputs": [],
   "source": [
    "def regra_capacidade(modelo, i):\n",
    "    return sum(modelo.x[i,j] for j in modelo.j) <= modelo.capacidades[i]\n",
    "\n",
    "def regra_demanda(modelo, j):\n",
    "    return sum(modelo.x[i,j] for i in modelo.i) >= modelo.demandas[j]\n",
    "\n",
    "\n",
    "modelo.restr_capacidade = Constraint(modelo.i, rule = regra_capacidade)\n",
    "modelo.restr_demanda = Constraint(modelo.j, rule = regra_demanda)"
   ]
  },
  {
   "cell_type": "markdown",
   "metadata": {},
   "source": [
    "### Função Objetivo"
   ]
  },
  {
   "cell_type": "code",
   "execution_count": 37,
   "metadata": {},
   "outputs": [],
   "source": [
    "def custo_total(modelo):\n",
    "    return sum(modelo.custos[i,j] * modelo.x[i,j] for i in modelo.i for j in modelo.j)\n",
    "\n",
    "modelo.Z = Objective(rule=custo_total, sense=minimize) "
   ]
  },
  {
   "cell_type": "code",
   "execution_count": 38,
   "metadata": {},
   "outputs": [
    {
     "data": {
      "text/plain": [
       "{'Problem': [{'Name': 'x13', 'Lower bound': 20200.0, 'Upper bound': 20200.0, 'Number of objectives': 1, 'Number of constraints': 8, 'Number of variables': 13, 'Number of binary variables': 0, 'Number of integer variables': 0, 'Number of continuous variables': 13, 'Number of nonzeros': 25, 'Sense': 'minimize'}], 'Solver': [{'Status': 'ok', 'Return code': '0', 'Message': 'Model was solved to optimality (subject to tolerances), and an optimal solution is available.', 'Termination condition': 'optimal', 'Termination message': 'Model was solved to optimality (subject to tolerances), and an optimal solution is available.', 'Wall time': '0.001041412353515625', 'Error rc': 0, 'Time': 0.3741133213043213}], 'Solution': [OrderedDict([('number of solutions', 0), ('number of solutions displayed', 0)])]}"
      ]
     },
     "execution_count": 38,
     "metadata": {},
     "output_type": "execute_result"
    }
   ],
   "source": [
    "opt = SolverFactory(\"gurobi\")\n",
    "opt.solve(modelo)"
   ]
  },
  {
   "cell_type": "code",
   "execution_count": 39,
   "metadata": {},
   "outputs": [
    {
     "name": "stdout",
     "output_type": "stream",
     "text": [
      "x[Fábrica 1,CD1] 0.0\n",
      "x[Fábrica 1,CD2] 0.0\n",
      "x[Fábrica 1,CD3] 2.0\n",
      "x[Fábrica 1,CD4] 10.0\n",
      "x[Fábrica 2,CD1] 0.0\n",
      "x[Fábrica 2,CD2] 9.0\n",
      "x[Fábrica 2,CD3] 8.0\n",
      "x[Fábrica 2,CD4] 0.0\n",
      "x[Fábrica 3,CD1] 10.0\n",
      "x[Fábrica 3,CD2] 1.0\n",
      "x[Fábrica 3,CD3] 0.0\n",
      "x[Fábrica 3,CD4] 0.0\n",
      "O valor ótimo encontrado foi: R$ 20200.0\n"
     ]
    }
   ],
   "source": [
    "for v in modelo.component_data_objects(Var):\n",
    "    print (str(v), v.value)\n",
    "    \n",
    "print(\"O valor ótimo encontrado foi: R$\", modelo.Z())\n"
   ]
  }
 ],
 "metadata": {
  "kernelspec": {
   "display_name": "Python 3",
   "language": "python",
   "name": "python3"
  },
  "language_info": {
   "codemirror_mode": {
    "name": "ipython",
    "version": 3
   },
   "file_extension": ".py",
   "mimetype": "text/x-python",
   "name": "python",
   "nbconvert_exporter": "python",
   "pygments_lexer": "ipython3",
   "version": "3.8.5"
  }
 },
 "nbformat": 4,
 "nbformat_minor": 4
}
