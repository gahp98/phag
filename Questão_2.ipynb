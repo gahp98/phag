{
 "cells": [
  {
   "cell_type": "markdown",
   "metadata": {},
   "source": [
    "# Questão 2 - Pedro Henrique Arruda Gonçalves"
   ]
  },
  {
   "cell_type": "code",
   "execution_count": 2,
   "metadata": {},
   "outputs": [],
   "source": [
    "import pandas as pd"
   ]
  },
  {
   "cell_type": "code",
   "execution_count": 3,
   "metadata": {},
   "outputs": [
    {
     "data": {
      "text/html": [
       "<div>\n",
       "<style scoped>\n",
       "    .dataframe tbody tr th:only-of-type {\n",
       "        vertical-align: middle;\n",
       "    }\n",
       "\n",
       "    .dataframe tbody tr th {\n",
       "        vertical-align: top;\n",
       "    }\n",
       "\n",
       "    .dataframe thead th {\n",
       "        text-align: right;\n",
       "    }\n",
       "</style>\n",
       "<table border=\"1\" class=\"dataframe\">\n",
       "  <thead>\n",
       "    <tr style=\"text-align: right;\">\n",
       "      <th></th>\n",
       "      <th></th>\n",
       "      <th>Fábrica 1</th>\n",
       "      <th>Fábrica 2</th>\n",
       "      <th>Fábrica 3</th>\n",
       "      <th>Fábrica 4</th>\n",
       "      <th>Capacidade</th>\n",
       "    </tr>\n",
       "  </thead>\n",
       "  <tbody>\n",
       "    <tr>\n",
       "      <th>0</th>\n",
       "      <td>Trabalhador 1</td>\n",
       "      <td>17</td>\n",
       "      <td>22</td>\n",
       "      <td>24</td>\n",
       "      <td>15</td>\n",
       "      <td>1</td>\n",
       "    </tr>\n",
       "    <tr>\n",
       "      <th>1</th>\n",
       "      <td>Trabalhador 2</td>\n",
       "      <td>14</td>\n",
       "      <td>28</td>\n",
       "      <td>18</td>\n",
       "      <td>17</td>\n",
       "      <td>1</td>\n",
       "    </tr>\n",
       "    <tr>\n",
       "      <th>2</th>\n",
       "      <td>Trabalhador 3</td>\n",
       "      <td>11</td>\n",
       "      <td>21</td>\n",
       "      <td>30</td>\n",
       "      <td>20</td>\n",
       "      <td>1</td>\n",
       "    </tr>\n",
       "    <tr>\n",
       "      <th>3</th>\n",
       "      <td>Trabalhador 4</td>\n",
       "      <td>19</td>\n",
       "      <td>25</td>\n",
       "      <td>21</td>\n",
       "      <td>22</td>\n",
       "      <td>1</td>\n",
       "    </tr>\n",
       "    <tr>\n",
       "      <th>4</th>\n",
       "      <td>Demanda</td>\n",
       "      <td>1</td>\n",
       "      <td>1</td>\n",
       "      <td>1</td>\n",
       "      <td>1</td>\n",
       "      <td>0</td>\n",
       "    </tr>\n",
       "  </tbody>\n",
       "</table>\n",
       "</div>"
      ],
      "text/plain": [
       "                  Fábrica 1  Fábrica 2  Fábrica 3  Fábrica 4  Capacidade\n",
       "0  Trabalhador 1         17         22         24         15           1\n",
       "1  Trabalhador 2         14         28         18         17           1\n",
       "2  Trabalhador 3         11         21         30         20           1\n",
       "3  Trabalhador 4         19         25         21         22           1\n",
       "4        Demanda          1          1          1          1           0"
      ]
     },
     "execution_count": 3,
     "metadata": {},
     "output_type": "execute_result"
    }
   ],
   "source": [
    "lst1 = [\"Trabalhador 1\", \"Trabalhador 2\", \"Trabalhador 3\", \"Trabalhador 4\", \"Demanda\"]\n",
    "lst2 = [17, 14, 11, 19, 1]\n",
    "lst3 = [22, 28, 21, 25, 1]\n",
    "lst4 = [24, 18, 30, 21, 1]\n",
    "lst5 = [15, 17, 20, 22, 1]\n",
    "lst6 = [1, 1, 1, 1, 0]\n",
    "\n",
    "df_aux = list(zip(lst1,lst2,lst3,lst4,lst5,lst6))\n",
    "\n",
    "df = pd.DataFrame(df_aux)\n",
    "\n",
    "df.columns = [\"\", \"Fábrica 1\", \"Fábrica 2\", \"Fábrica 3\", \"Fábrica 4\", \"Capacidade\"]\n",
    "\n",
    "df # Iniciando o dataframe da questão com os respectivos tempos de trabalho\n",
    "   # relacionado cada trabaçhador a uma determinada fábrica , e também com as capacidades dos trabalhadores e as demandas das fábricas "
   ]
  },
  {
   "cell_type": "code",
   "execution_count": 4,
   "metadata": {},
   "outputs": [
    {
     "data": {
      "text/html": [
       "<div>\n",
       "<style scoped>\n",
       "    .dataframe tbody tr th:only-of-type {\n",
       "        vertical-align: middle;\n",
       "    }\n",
       "\n",
       "    .dataframe tbody tr th {\n",
       "        vertical-align: top;\n",
       "    }\n",
       "\n",
       "    .dataframe thead th {\n",
       "        text-align: right;\n",
       "    }\n",
       "</style>\n",
       "<table border=\"1\" class=\"dataframe\">\n",
       "  <thead>\n",
       "    <tr style=\"text-align: right;\">\n",
       "      <th></th>\n",
       "      <th>Fábrica 1</th>\n",
       "      <th>Fábrica 2</th>\n",
       "      <th>Fábrica 3</th>\n",
       "      <th>Fábrica 4</th>\n",
       "      <th>Capacidade</th>\n",
       "    </tr>\n",
       "    <tr>\n",
       "      <th></th>\n",
       "      <th></th>\n",
       "      <th></th>\n",
       "      <th></th>\n",
       "      <th></th>\n",
       "      <th></th>\n",
       "    </tr>\n",
       "  </thead>\n",
       "  <tbody>\n",
       "    <tr>\n",
       "      <th>Trabalhador 1</th>\n",
       "      <td>17</td>\n",
       "      <td>22</td>\n",
       "      <td>24</td>\n",
       "      <td>15</td>\n",
       "      <td>1</td>\n",
       "    </tr>\n",
       "    <tr>\n",
       "      <th>Trabalhador 2</th>\n",
       "      <td>14</td>\n",
       "      <td>28</td>\n",
       "      <td>18</td>\n",
       "      <td>17</td>\n",
       "      <td>1</td>\n",
       "    </tr>\n",
       "    <tr>\n",
       "      <th>Trabalhador 3</th>\n",
       "      <td>11</td>\n",
       "      <td>21</td>\n",
       "      <td>30</td>\n",
       "      <td>20</td>\n",
       "      <td>1</td>\n",
       "    </tr>\n",
       "    <tr>\n",
       "      <th>Trabalhador 4</th>\n",
       "      <td>19</td>\n",
       "      <td>25</td>\n",
       "      <td>21</td>\n",
       "      <td>22</td>\n",
       "      <td>1</td>\n",
       "    </tr>\n",
       "    <tr>\n",
       "      <th>Demanda</th>\n",
       "      <td>1</td>\n",
       "      <td>1</td>\n",
       "      <td>1</td>\n",
       "      <td>1</td>\n",
       "      <td>0</td>\n",
       "    </tr>\n",
       "  </tbody>\n",
       "</table>\n",
       "</div>"
      ],
      "text/plain": [
       "               Fábrica 1  Fábrica 2  Fábrica 3  Fábrica 4  Capacidade\n",
       "                                                                     \n",
       "Trabalhador 1         17         22         24         15           1\n",
       "Trabalhador 2         14         28         18         17           1\n",
       "Trabalhador 3         11         21         30         20           1\n",
       "Trabalhador 4         19         25         21         22           1\n",
       "Demanda                1          1          1          1           0"
      ]
     },
     "execution_count": 4,
     "metadata": {},
     "output_type": "execute_result"
    }
   ],
   "source": [
    "df = df.set_index(df.iloc[0:5,0]) # Alterar o índice\n",
    "df.drop(\"\", axis=1, inplace = True) # Excluir a primeira coluna\n",
    "df"
   ]
  },
  {
   "cell_type": "code",
   "execution_count": 5,
   "metadata": {},
   "outputs": [
    {
     "data": {
      "text/plain": [
       "\n",
       "Trabalhador 1    1\n",
       "Trabalhador 2    1\n",
       "Trabalhador 3    1\n",
       "Trabalhador 4    1\n",
       "Name: Capacidade, dtype: int64"
      ]
     },
     "execution_count": 5,
     "metadata": {},
     "output_type": "execute_result"
    }
   ],
   "source": [
    "df.Capacidade.drop(\"Demanda\")"
   ]
  },
  {
   "cell_type": "code",
   "execution_count": 6,
   "metadata": {},
   "outputs": [
    {
     "data": {
      "text/plain": [
       "\n",
       "Trabalhador 1    1\n",
       "Trabalhador 2    1\n",
       "Trabalhador 3    1\n",
       "Trabalhador 4    1\n",
       "Name: Capacidade, dtype: int64"
      ]
     },
     "execution_count": 6,
     "metadata": {},
     "output_type": "execute_result"
    }
   ],
   "source": [
    "df_capacidades = df.Capacidade.drop(\"Demanda\")\n",
    "df_capacidades"
   ]
  },
  {
   "cell_type": "code",
   "execution_count": 7,
   "metadata": {},
   "outputs": [
    {
     "data": {
      "text/plain": [
       "Fábrica 1    1\n",
       "Fábrica 2    1\n",
       "Fábrica 3    1\n",
       "Fábrica 4    1\n",
       "Name: Demanda, dtype: int64"
      ]
     },
     "execution_count": 7,
     "metadata": {},
     "output_type": "execute_result"
    }
   ],
   "source": [
    "df_demandas = df.loc[\"Demanda\"].drop(\"Capacidade\")\n",
    "df_demandas"
   ]
  },
  {
   "cell_type": "code",
   "execution_count": 8,
   "metadata": {},
   "outputs": [
    {
     "data": {
      "text/html": [
       "<div>\n",
       "<style scoped>\n",
       "    .dataframe tbody tr th:only-of-type {\n",
       "        vertical-align: middle;\n",
       "    }\n",
       "\n",
       "    .dataframe tbody tr th {\n",
       "        vertical-align: top;\n",
       "    }\n",
       "\n",
       "    .dataframe thead th {\n",
       "        text-align: right;\n",
       "    }\n",
       "</style>\n",
       "<table border=\"1\" class=\"dataframe\">\n",
       "  <thead>\n",
       "    <tr style=\"text-align: right;\">\n",
       "      <th></th>\n",
       "      <th>Fábrica 1</th>\n",
       "      <th>Fábrica 2</th>\n",
       "      <th>Fábrica 3</th>\n",
       "      <th>Fábrica 4</th>\n",
       "    </tr>\n",
       "    <tr>\n",
       "      <th></th>\n",
       "      <th></th>\n",
       "      <th></th>\n",
       "      <th></th>\n",
       "      <th></th>\n",
       "    </tr>\n",
       "  </thead>\n",
       "  <tbody>\n",
       "    <tr>\n",
       "      <th>Trabalhador 1</th>\n",
       "      <td>17</td>\n",
       "      <td>22</td>\n",
       "      <td>24</td>\n",
       "      <td>15</td>\n",
       "    </tr>\n",
       "    <tr>\n",
       "      <th>Trabalhador 2</th>\n",
       "      <td>14</td>\n",
       "      <td>28</td>\n",
       "      <td>18</td>\n",
       "      <td>17</td>\n",
       "    </tr>\n",
       "    <tr>\n",
       "      <th>Trabalhador 3</th>\n",
       "      <td>11</td>\n",
       "      <td>21</td>\n",
       "      <td>30</td>\n",
       "      <td>20</td>\n",
       "    </tr>\n",
       "    <tr>\n",
       "      <th>Trabalhador 4</th>\n",
       "      <td>19</td>\n",
       "      <td>25</td>\n",
       "      <td>21</td>\n",
       "      <td>22</td>\n",
       "    </tr>\n",
       "  </tbody>\n",
       "</table>\n",
       "</div>"
      ],
      "text/plain": [
       "               Fábrica 1  Fábrica 2  Fábrica 3  Fábrica 4\n",
       "                                                         \n",
       "Trabalhador 1         17         22         24         15\n",
       "Trabalhador 2         14         28         18         17\n",
       "Trabalhador 3         11         21         30         20\n",
       "Trabalhador 4         19         25         21         22"
      ]
     },
     "execution_count": 8,
     "metadata": {},
     "output_type": "execute_result"
    }
   ],
   "source": [
    "df_custos = df.iloc[:-1,:-1]\n",
    "df_custos"
   ]
  },
  {
   "cell_type": "markdown",
   "metadata": {},
   "source": [
    "## Pyomo"
   ]
  },
  {
   "cell_type": "code",
   "execution_count": 9,
   "metadata": {},
   "outputs": [],
   "source": [
    "import pyomo.environ as pyo\n",
    "from pyomo.environ import *\n",
    "from pyomo.opt import SolverFactory"
   ]
  },
  {
   "cell_type": "code",
   "execution_count": 10,
   "metadata": {},
   "outputs": [],
   "source": [
    "modelo = pyo.ConcreteModel()"
   ]
  },
  {
   "cell_type": "markdown",
   "metadata": {},
   "source": [
    "### Criando índices"
   ]
  },
  {
   "cell_type": "code",
   "execution_count": 11,
   "metadata": {},
   "outputs": [],
   "source": [
    "modelo.i = Set(initialize= df_custos.index, doc='Fábricas')\n",
    "modelo.j = Set(initialize= df_custos.columns, doc = \"CDs\")"
   ]
  },
  {
   "cell_type": "markdown",
   "metadata": {},
   "source": [
    "### Criando os parâmetros"
   ]
  },
  {
   "cell_type": "code",
   "execution_count": 12,
   "metadata": {},
   "outputs": [],
   "source": [
    "modelo.capacidades = Param (modelo.i, initialize= df_capacidades, doc='Capacidades')\n",
    "modelo.demandas = Param(modelo.j, initialize=df_demandas, doc='Demandas')"
   ]
  },
  {
   "cell_type": "code",
   "execution_count": 13,
   "metadata": {},
   "outputs": [
    {
     "data": {
      "text/plain": [
       "{('Trabalhador 1', 'Fábrica 1'): 17,\n",
       " ('Trabalhador 1', 'Fábrica 2'): 22,\n",
       " ('Trabalhador 1', 'Fábrica 3'): 24,\n",
       " ('Trabalhador 1', 'Fábrica 4'): 15,\n",
       " ('Trabalhador 2', 'Fábrica 1'): 14,\n",
       " ('Trabalhador 2', 'Fábrica 2'): 28,\n",
       " ('Trabalhador 2', 'Fábrica 3'): 18,\n",
       " ('Trabalhador 2', 'Fábrica 4'): 17,\n",
       " ('Trabalhador 3', 'Fábrica 1'): 11,\n",
       " ('Trabalhador 3', 'Fábrica 2'): 21,\n",
       " ('Trabalhador 3', 'Fábrica 3'): 30,\n",
       " ('Trabalhador 3', 'Fábrica 4'): 20,\n",
       " ('Trabalhador 4', 'Fábrica 1'): 19,\n",
       " ('Trabalhador 4', 'Fábrica 2'): 25,\n",
       " ('Trabalhador 4', 'Fábrica 3'): 21,\n",
       " ('Trabalhador 4', 'Fábrica 4'): 22}"
      ]
     },
     "execution_count": 13,
     "metadata": {},
     "output_type": "execute_result"
    }
   ],
   "source": [
    "dicionario_custos = df_custos.stack().to_dict()\n",
    "dicionario_custos"
   ]
  },
  {
   "cell_type": "code",
   "execution_count": 14,
   "metadata": {},
   "outputs": [],
   "source": [
    "modelo.custos = Param(modelo.i, modelo.j, initialize = dicionario_custos, doc='Custos')"
   ]
  },
  {
   "cell_type": "markdown",
   "metadata": {},
   "source": [
    "### Criando as variáveis"
   ]
  },
  {
   "cell_type": "code",
   "execution_count": 15,
   "metadata": {},
   "outputs": [],
   "source": [
    "modelo.x = Var(modelo.i, modelo.j, bounds=(0.0,None), doc='Quantidades Enviadas')"
   ]
  },
  {
   "cell_type": "markdown",
   "metadata": {},
   "source": [
    "### Criando as restrições"
   ]
  },
  {
   "cell_type": "code",
   "execution_count": 16,
   "metadata": {},
   "outputs": [],
   "source": [
    "def regra_capacidade(modelo, i):\n",
    "    return sum(modelo.x[i,j] for j in modelo.j) <= modelo.capacidades[i]\n",
    "\n",
    "def regra_demanda(modelo, j):\n",
    "    return sum(modelo.x[i,j] for i in modelo.i) >= modelo.demandas[j]\n",
    "\n",
    "\n",
    "modelo.restr_capacidade = Constraint(modelo.i, rule = regra_capacidade)\n",
    "modelo.restr_demanda = Constraint(modelo.j, rule = regra_demanda)"
   ]
  },
  {
   "cell_type": "markdown",
   "metadata": {},
   "source": [
    "### Função Objetivo"
   ]
  },
  {
   "cell_type": "code",
   "execution_count": 17,
   "metadata": {},
   "outputs": [],
   "source": [
    "def custo_total(modelo):\n",
    "    return sum(modelo.custos[i,j] * modelo.x[i,j] for i in modelo.i for j in modelo.j)\n",
    "\n",
    "modelo.Z = Objective(rule=custo_total, sense=minimize) "
   ]
  },
  {
   "cell_type": "code",
   "execution_count": 18,
   "metadata": {},
   "outputs": [
    {
     "data": {
      "text/plain": [
       "{'Problem': [{'Name': 'x17', 'Lower bound': 69.0, 'Upper bound': 69.0, 'Number of objectives': 1, 'Number of constraints': 9, 'Number of variables': 17, 'Number of binary variables': 0, 'Number of integer variables': 0, 'Number of continuous variables': 17, 'Number of nonzeros': 33, 'Sense': 'minimize'}], 'Solver': [{'Status': 'ok', 'Return code': '0', 'Message': 'Model was solved to optimality (subject to tolerances), and an optimal solution is available.', 'Termination condition': 'optimal', 'Termination message': 'Model was solved to optimality (subject to tolerances), and an optimal solution is available.', 'Wall time': '0.00104522705078125', 'Error rc': 0, 'Time': 0.24924349784851074}], 'Solution': [OrderedDict([('number of solutions', 0), ('number of solutions displayed', 0)])]}"
      ]
     },
     "execution_count": 18,
     "metadata": {},
     "output_type": "execute_result"
    }
   ],
   "source": [
    "opt = SolverFactory(\"gurobi\")\n",
    "opt.solve(modelo)"
   ]
  },
  {
   "cell_type": "code",
   "execution_count": 19,
   "metadata": {},
   "outputs": [
    {
     "name": "stdout",
     "output_type": "stream",
     "text": [
      "x[Trabalhador 1,Fábrica 1] 0.0\n",
      "x[Trabalhador 1,Fábrica 2] 0.0\n",
      "x[Trabalhador 1,Fábrica 3] 0.0\n",
      "x[Trabalhador 1,Fábrica 4] 1.0\n",
      "x[Trabalhador 2,Fábrica 1] 0.0\n",
      "x[Trabalhador 2,Fábrica 2] 0.0\n",
      "x[Trabalhador 2,Fábrica 3] 1.0\n",
      "x[Trabalhador 2,Fábrica 4] 0.0\n",
      "x[Trabalhador 3,Fábrica 1] 1.0\n",
      "x[Trabalhador 3,Fábrica 2] 0.0\n",
      "x[Trabalhador 3,Fábrica 3] 0.0\n",
      "x[Trabalhador 3,Fábrica 4] 0.0\n",
      "x[Trabalhador 4,Fábrica 1] 0.0\n",
      "x[Trabalhador 4,Fábrica 2] 1.0\n",
      "x[Trabalhador 4,Fábrica 3] 0.0\n",
      "x[Trabalhador 4,Fábrica 4] 0.0\n",
      "A  melhor alocação deo modo que as tarefas sejam realizadas foi de: 69.0  minutos\n"
     ]
    }
   ],
   "source": [
    "for v in modelo.component_data_objects(Var):\n",
    "    print (str(v), v.value)\n",
    "    \n",
    "print(\"A  melhor alocação deo modo que as tarefas sejam realizadas foi de:\", modelo.Z(), \"minutos\")"
   ]
  }
 ],
 "metadata": {
  "kernelspec": {
   "display_name": "Python 3",
   "language": "python",
   "name": "python3"
  },
  "language_info": {
   "codemirror_mode": {
    "name": "ipython",
    "version": 3
   },
   "file_extension": ".py",
   "mimetype": "text/x-python",
   "name": "python",
   "nbconvert_exporter": "python",
   "pygments_lexer": "ipython3",
   "version": "3.8.5"
  }
 },
 "nbformat": 4,
 "nbformat_minor": 4
}
